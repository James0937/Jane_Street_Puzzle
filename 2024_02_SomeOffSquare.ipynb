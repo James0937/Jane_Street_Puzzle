{
 "cells": [
  {
   "cell_type": "code",
   "execution_count": 1,
   "metadata": {},
   "outputs": [
    {
     "name": "stdout",
     "output_type": "stream",
     "text": [
      "0.47661\n"
     ]
    }
   ],
   "source": [
    "import random\n",
    "import math\n",
    "\n",
    "size = 100000\n",
    "punch = 0\n",
    "for i in range(size):\n",
    "    x1 = random.uniform(0,1)\n",
    "    y1 = random.uniform(0,1)\n",
    "    x2 = random.uniform(0,1)\n",
    "    y2 = random.uniform(0,1)\n",
    "    # center\n",
    "    x = (x1+x2)/2\n",
    "    y = (y1+y2)/2\n",
    "    # radius\n",
    "    r = math.sqrt((x-x1)**2 + (y-y1)**2)\n",
    "    if (x+r > 1) or (x-r < 0) or (y+r > 1) or (y-r < 0):\n",
    "        punch += 1\n",
    "\n",
    "result = punch/size\n",
    "print(result)"
   ]
  },
  {
   "cell_type": "markdown",
   "metadata": {},
   "source": [
    "Trivially, the result is relevant with pi"
   ]
  },
  {
   "cell_type": "markdown",
   "metadata": {},
   "source": [
    "Since what we lookfing for is the probability outside of the square, it should be a complement of (k/pi) or (pi/k)"
   ]
  },
  {
   "cell_type": "code",
   "execution_count": 2,
   "metadata": {},
   "outputs": [
    {
     "name": "stdout",
     "output_type": "stream",
     "text": [
      "0.1666002113297342\n",
      "1.644278178962362\n"
     ]
    }
   ],
   "source": [
    "target = 1-result\n",
    "print(target/ math.pi)\n",
    "print(target * math.pi)"
   ]
  },
  {
   "cell_type": "markdown",
   "metadata": {},
   "source": [
    "0.1666 obviously is 1/6\n",
    "\n",
    "## As a result, the answer we looking for is 1=pi/6"
   ]
  }
 ],
 "metadata": {
  "kernelspec": {
   "display_name": "Python 3",
   "language": "python",
   "name": "python3"
  },
  "language_info": {
   "codemirror_mode": {
    "name": "ipython",
    "version": 3
   },
   "file_extension": ".py",
   "mimetype": "text/x-python",
   "name": "python",
   "nbconvert_exporter": "python",
   "pygments_lexer": "ipython3",
   "version": "3.11.5"
  }
 },
 "nbformat": 4,
 "nbformat_minor": 2
}
