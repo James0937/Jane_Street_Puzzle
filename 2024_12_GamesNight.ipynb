{
 "cells": [
  {
   "cell_type": "markdown",
   "metadata": {},
   "source": [
    "Firstly, not hard to find out that these board game cards form some specific letters.\n",
    "\n",
    "With the order of \"left to right, back to front\" by their containers, we can match them as:\n",
    "```\n",
    "UNO: m\n",
    "Catan: i\n",
    "Risk: s\n",
    "Monopoly: s\n",
    "Dominion: i\n",
    "Scrabble: n\n",
    "SushiGo!: g\n",
    "Chess: o\n",
    "Clue: e\n",
    "Bananagrams: s\n",
    "```\n",
    "Indicates \"Missing Ones\"."
   ]
  },
  {
   "cell_type": "markdown",
   "metadata": {},
   "source": [
    "Then we notice that there are exactly some components missing. For example, the uno doesn't have **yellow** cards.\n",
    "\n",
    "But I'm not a fan of board games, and I've only played uno in these games. As a result, I gave up this month's puzzle. But I believe I'm on the right way."
   ]
  }
 ],
 "metadata": {
  "language_info": {
   "name": "python"
  }
 },
 "nbformat": 4,
 "nbformat_minor": 2
}
